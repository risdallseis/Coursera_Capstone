{
 "cells": [
  {
   "cell_type": "markdown",
   "metadata": {},
   "source": [
    "Battle of the neighborhoods - WEEK 1"
   ]
  },
  {
   "cell_type": "markdown",
   "metadata": {},
   "source": [
    "THE PROBLEM:\n",
    "\n",
    "There is a young man who would like to move from Great Britian to Spain to experience new culture and language. In order to have the most optimal opportunities, he would like to live in a city. However, he has not visited many cities in Spain and wants to make the right choice, without having to visit all possible cities in person.\n",
    "With some data analysis and machine learning algorithms - will it be possible to find the most apprpriate city and even perhaps a certain area within a city to relocate to?"
   ]
  },
  {
   "cell_type": "markdown",
   "metadata": {},
   "source": [
    "THE BACKGROUND:\n",
    "    \n",
    "This man enjoys the finer things in life like eating out and going for drinks. He also enjoys areas of natural beauty and warm weather (but not unbearable heat!). Another important factor is how densely located the ammenties of interest are to eachother, this man does not like travelling for kilometres across the city to go to his favorite coffeshop.\n",
    "In summary, the infomation to consider: number/density of local ammenties, areas of natural beauty (national parks) and their distances to the city and year-round climate."
   ]
  },
  {
   "cell_type": "markdown",
   "metadata": {},
   "source": [
    "THE DATA:   \\\n",
    "The following infomation will be obtained for the largest cities in Spain (population):           \\\n",
    "Geodata will be obtained from www.foursquare.com \\\n",
    "Cost of living data will be obtained from www.Numbeo.com \\\n",
    "Climate data will be obtained from www.climatestotravel.com \n"
   ]
  },
  {
   "cell_type": "markdown",
   "metadata": {},
   "source": [
    "HOW WILL THE DATA BE USED TO SOLVE THE PROBLEM:\n",
    "- Data will be prepared and sorted\n",
    "- Methods of data visualation will be used in exploratory data analysis\n",
    "- Unsupervised clustering methods: K-means and DBSCAN will be used to create groups of cities .... density of immenities, weather and cost of living\n",
    "- Which city is located in most of the favourable clusters wins!"
   ]
  },
  {
   "cell_type": "code",
   "execution_count": null,
   "metadata": {},
   "outputs": [],
   "source": []
  }
 ],
 "metadata": {
  "kernelspec": {
   "display_name": "Python",
   "language": "python",
   "name": "conda-env-python-py"
  },
  "language_info": {
   "codemirror_mode": {
    "name": "ipython",
    "version": 3
   },
   "file_extension": ".py",
   "mimetype": "text/x-python",
   "name": "python",
   "nbconvert_exporter": "python",
   "pygments_lexer": "ipython3",
   "version": "3.6.10"
  }
 },
 "nbformat": 4,
 "nbformat_minor": 4
}
