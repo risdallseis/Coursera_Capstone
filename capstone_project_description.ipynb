{
 "cells": [
  {
   "cell_type": "markdown",
   "metadata": {},
   "source": [
    "# **Capstone Project: Car Insurance Cold Calling**"
   ]
  },
  {
   "cell_type": "markdown",
   "metadata": {},
   "source": [
    "**The Problem**\n",
    "\n",
    "Car insurance companies use cold calls to sell their car insurance. If you have ever been cold called, the chances are that you would havesaid you are not interested or hung up,. It would be useful for the cold callers to know infomation about who is more likely to buy car insurance from a cold call, in order to maximise the amount of sales within a given time of making calls. In this project I will attempt to find such infomation."
   ]
  },
  {
   "cell_type": "markdown",
   "metadata": {},
   "source": [
    "**The Data**\n",
    "\n",
    "I have found this dataset https://www.kaggle.com/kondla/carinsurance on kaggle. It contains 4000 rows of cold call data and has 19 columns. There is a column for the outcome of the call- did they purchase car insurance or not, the perfect variable to predict. The dataset is very simple and easy to understand, it is mostly ready to use and should not require a ton of wrangling. However, I should be able to follow the main steps of starting a project: pre-processing, data exploratory analysis and then modelling.\n",
    "\n",
    "I plan on using some of the features to predict whether someone will buy car insurance or not as the outcome of a cold call. I would like to apply a variety of classification methods to the data and then evaluate the performance of each method at predicting the call outcome, in order to find the most accurate classification method to use."
   ]
  }
 ],
 "metadata": {
  "kernelspec": {
   "display_name": "Python 3",
   "language": "python",
   "name": "python3"
  },
  "language_info": {
   "codemirror_mode": {
    "name": "ipython",
    "version": 3
   },
   "file_extension": ".py",
   "mimetype": "text/x-python",
   "name": "python",
   "nbconvert_exporter": "python",
   "pygments_lexer": "ipython3",
   "version": "3.7.0"
  }
 },
 "nbformat": 4,
 "nbformat_minor": 2
}
